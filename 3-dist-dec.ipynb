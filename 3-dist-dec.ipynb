{
 "cells": [
  {
   "cell_type": "code",
   "execution_count": null,
   "id": "11d3b4cc-9722-4ab3-8322-cb6b498ddd25",
   "metadata": {},
   "outputs": [],
   "source": [
    "def get_value(datasite):\n",
    "    # Get the vote/encrypted value from this datasite\n",
    "    return value\n",
    "\n",
    "def aggreagte_values(): \n",
    "    encrypted_value = 0\n",
    "    for datasite in datasites:\n",
    "        encrypted_value += get_value(datasite)\n",
    "    return total\n",
    "\n",
    "def compare_values(self):\n",
    "    # Compare values with other parties\n",
    "    # Can also be done inside the ddec\n",
    "    return True\n",
    "\n",
    "def distributed_decryption(total): \n",
    "    # Publish partially decrypted values and open along with the other parts \n",
    "    # This is the output of the aggregate computation\n",
    "    return True"
   ]
  }
 ],
 "metadata": {
  "kernelspec": {
   "display_name": "Python 3 (ipykernel)",
   "language": "python",
   "name": "python3"
  },
  "language_info": {
   "codemirror_mode": {
    "name": "ipython",
    "version": 3
   },
   "file_extension": ".py",
   "mimetype": "text/x-python",
   "name": "python",
   "nbconvert_exporter": "python",
   "pygments_lexer": "ipython3",
   "version": "3.10.13"
  }
 },
 "nbformat": 4,
 "nbformat_minor": 5
}
